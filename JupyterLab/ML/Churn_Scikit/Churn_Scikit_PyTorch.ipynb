{
 "cells": [
  {
   "cell_type": "markdown",
   "metadata": {},
   "source": [
    "# Client Retention Demo Using Python\n",
    "In this demo, we will show Anaconda functionality on IBM LinuxONE accessing data from CSV files. The data in customer CSV consists of 6,001 rows of customer information.  The data in transaction CSV consists of 20,000 rows of transaction data. The data is transformed and joined in a Pandas DataFrame, which is used to perform exploratory analyses. A random forest algorithm is then used to predict customer churn."
   ]
  },
  {
   "cell_type": "code",
   "execution_count": 1,
   "metadata": {
    "collapsed": false,
    "jupyter": {
     "outputs_hidden": false
    }
   },
   "outputs": [],
   "source": [
    "import pandas as pd\n",
    "import numpy as np\n",
    "\n",
    "import warnings\n",
    "warnings.filterwarnings(\"ignore\")\n",
    "warnings.simplefilter(\"ignore\", category=PendingDeprecationWarning)"
   ]
  },
  {
   "cell_type": "markdown",
   "metadata": {},
   "source": [
    "## Load Data from CSVs to Pandas DataFrames\n",
    "This step will load the CSV files into Pandas DataFrames. "
   ]
  },
  {
   "cell_type": "markdown",
   "metadata": {},
   "source": [
    "***Credit card transactions***\n",
    "\n",
    "Load credit card transactions into a Pandas DataFrame."
   ]
  },
  {
   "cell_type": "code",
   "execution_count": 2,
   "metadata": {
    "collapsed": false,
    "jupyter": {
     "outputs_hidden": false
    }
   },
   "outputs": [
    {
     "name": "stdout",
     "output_type": "stream",
     "text": [
      "Index(['DATE_CREDIT', 'ENV_NAME', 'ENV_ID', 'ENV_TYPE', 'ENV_CPL_PAN',\n",
      "       'CARD_BRND', 'TX_MRCHNT_ID', 'TX_TOTAL_AMT', 'CONT_ID', 'POSTAL_CODE',\n",
      "       'AGE', 'AUTHORRESULT', 'FRAUD_VER_RESULT'],\n",
      "      dtype='object')\n"
     ]
    }
   ],
   "source": [
    "txn_df = pd.read_csv('transactions.csv')\n",
    "print(txn_df.columns)"
   ]
  },
  {
   "cell_type": "code",
   "execution_count": 3,
   "metadata": {
    "collapsed": false,
    "jupyter": {
     "outputs_hidden": false
    }
   },
   "outputs": [],
   "source": [
    "txn_df['TX_TOTAL_AMT'] = pd.to_numeric(txn_df['TX_TOTAL_AMT'])\n",
    "txn_df['CONT_ID'] = txn_df['CONT_ID'].astype('int64')\n",
    "txn_df['DATE_CREDIT'] = pd.to_datetime(txn_df['DATE_CREDIT'])"
   ]
  },
  {
   "cell_type": "code",
   "execution_count": 4,
   "metadata": {
    "collapsed": false,
    "jupyter": {
     "outputs_hidden": false
    }
   },
   "outputs": [
    {
     "data": {
      "text/html": [
       "<div>\n",
       "<style scoped>\n",
       "    .dataframe tbody tr th:only-of-type {\n",
       "        vertical-align: middle;\n",
       "    }\n",
       "\n",
       "    .dataframe tbody tr th {\n",
       "        vertical-align: top;\n",
       "    }\n",
       "\n",
       "    .dataframe thead th {\n",
       "        text-align: right;\n",
       "    }\n",
       "</style>\n",
       "<table border=\"1\" class=\"dataframe\">\n",
       "  <thead>\n",
       "    <tr style=\"text-align: right;\">\n",
       "      <th></th>\n",
       "      <th>DATE_CREDIT</th>\n",
       "      <th>ENV_NAME</th>\n",
       "      <th>ENV_ID</th>\n",
       "      <th>ENV_TYPE</th>\n",
       "      <th>ENV_CPL_PAN</th>\n",
       "      <th>CARD_BRND</th>\n",
       "      <th>TX_MRCHNT_ID</th>\n",
       "      <th>TX_TOTAL_AMT</th>\n",
       "      <th>CONT_ID</th>\n",
       "      <th>POSTAL_CODE</th>\n",
       "      <th>AGE</th>\n",
       "      <th>AUTHORRESULT</th>\n",
       "      <th>FRAUD_VER_RESULT</th>\n",
       "      <th>date</th>\n",
       "    </tr>\n",
       "  </thead>\n",
       "  <tbody>\n",
       "    <tr>\n",
       "      <th>0</th>\n",
       "      <td>2013-04-03 00:47:00.001000+02:00</td>\n",
       "      <td>BancaItaliana</td>\n",
       "      <td>C0120580917273555</td>\n",
       "      <td>Don't be alone</td>\n",
       "      <td>1009549375</td>\n",
       "      <td>Visa Gold</td>\n",
       "      <td>7273</td>\n",
       "      <td>84.87</td>\n",
       "      <td>1009549370</td>\n",
       "      <td>C012058091</td>\n",
       "      <td>51</td>\n",
       "      <td>APPR</td>\n",
       "      <td>N</td>\n",
       "      <td>2013-04-03</td>\n",
       "    </tr>\n",
       "    <tr>\n",
       "      <th>1</th>\n",
       "      <td>2013-01-19 18:55:12.001000+02:00</td>\n",
       "      <td>BancaItaliana</td>\n",
       "      <td>C0120580915621418</td>\n",
       "      <td>Donna Elegante</td>\n",
       "      <td>1009549375</td>\n",
       "      <td>Visa Gold</td>\n",
       "      <td>5621</td>\n",
       "      <td>179.43</td>\n",
       "      <td>1009549370</td>\n",
       "      <td>C012058091</td>\n",
       "      <td>51</td>\n",
       "      <td>APPR</td>\n",
       "      <td>N</td>\n",
       "      <td>2013-01-19</td>\n",
       "    </tr>\n",
       "    <tr>\n",
       "      <th>2</th>\n",
       "      <td>2013-06-03 19:58:05.001000+02:00</td>\n",
       "      <td>BancaItaliana</td>\n",
       "      <td>C0120580915311606</td>\n",
       "      <td>Rinascimento</td>\n",
       "      <td>1009549375</td>\n",
       "      <td>Visa Gold</td>\n",
       "      <td>5311</td>\n",
       "      <td>140.34</td>\n",
       "      <td>1009549370</td>\n",
       "      <td>C012058091</td>\n",
       "      <td>51</td>\n",
       "      <td>APPR</td>\n",
       "      <td>N</td>\n",
       "      <td>2013-06-03</td>\n",
       "    </tr>\n",
       "    <tr>\n",
       "      <th>3</th>\n",
       "      <td>2013-06-03 00:02:00.001000+02:00</td>\n",
       "      <td>BancaItaliana</td>\n",
       "      <td>C0120580915814746</td>\n",
       "      <td>Eat and Go</td>\n",
       "      <td>1009549375</td>\n",
       "      <td>Visa Gold</td>\n",
       "      <td>5814</td>\n",
       "      <td>144.10</td>\n",
       "      <td>1009549370</td>\n",
       "      <td>C012058091</td>\n",
       "      <td>51</td>\n",
       "      <td>APPR</td>\n",
       "      <td>N</td>\n",
       "      <td>2013-06-03</td>\n",
       "    </tr>\n",
       "    <tr>\n",
       "      <th>4</th>\n",
       "      <td>2013-03-02 16:00:00.001000+02:00</td>\n",
       "      <td>BancaItaliana</td>\n",
       "      <td>C0120580915992763</td>\n",
       "      <td>Florists</td>\n",
       "      <td>1009549375</td>\n",
       "      <td>Visa Gold</td>\n",
       "      <td>5992</td>\n",
       "      <td>111.73</td>\n",
       "      <td>1009549370</td>\n",
       "      <td>C012058091</td>\n",
       "      <td>51</td>\n",
       "      <td>APPR</td>\n",
       "      <td>N</td>\n",
       "      <td>2013-03-02</td>\n",
       "    </tr>\n",
       "    <tr>\n",
       "      <th>...</th>\n",
       "      <td>...</td>\n",
       "      <td>...</td>\n",
       "      <td>...</td>\n",
       "      <td>...</td>\n",
       "      <td>...</td>\n",
       "      <td>...</td>\n",
       "      <td>...</td>\n",
       "      <td>...</td>\n",
       "      <td>...</td>\n",
       "      <td>...</td>\n",
       "      <td>...</td>\n",
       "      <td>...</td>\n",
       "      <td>...</td>\n",
       "      <td>...</td>\n",
       "    </tr>\n",
       "    <tr>\n",
       "      <th>19995</th>\n",
       "      <td>2013-03-27 18:00:00.001000+02:00</td>\n",
       "      <td>BancaItaliana</td>\n",
       "      <td>C01707603959502</td>\n",
       "      <td>Home of Crystal</td>\n",
       "      <td>1009533713</td>\n",
       "      <td>Debit Card</td>\n",
       "      <td>5950</td>\n",
       "      <td>20.05</td>\n",
       "      <td>1009533710</td>\n",
       "      <td>C017076039</td>\n",
       "      <td>51</td>\n",
       "      <td>APPR</td>\n",
       "      <td>N</td>\n",
       "      <td>2013-03-27</td>\n",
       "    </tr>\n",
       "    <tr>\n",
       "      <th>19996</th>\n",
       "      <td>2013-08-04 16:38:12.008000+02:00</td>\n",
       "      <td>BancaItaliana</td>\n",
       "      <td>C01707603978321</td>\n",
       "      <td>Movies</td>\n",
       "      <td>1009533713</td>\n",
       "      <td>Debit Card</td>\n",
       "      <td>7832</td>\n",
       "      <td>24.91</td>\n",
       "      <td>1009533710</td>\n",
       "      <td>C017076039</td>\n",
       "      <td>51</td>\n",
       "      <td>APPR</td>\n",
       "      <td>N</td>\n",
       "      <td>2013-08-04</td>\n",
       "    </tr>\n",
       "    <tr>\n",
       "      <th>19997</th>\n",
       "      <td>2013-09-11 18:00:00.001000+02:00</td>\n",
       "      <td>BancaItaliana</td>\n",
       "      <td>C01707603957191</td>\n",
       "      <td>My Beatiful House</td>\n",
       "      <td>1009533713</td>\n",
       "      <td>Debit Card</td>\n",
       "      <td>5719</td>\n",
       "      <td>31.35</td>\n",
       "      <td>1009533710</td>\n",
       "      <td>C017076039</td>\n",
       "      <td>51</td>\n",
       "      <td>APPR</td>\n",
       "      <td>N</td>\n",
       "      <td>2013-09-11</td>\n",
       "    </tr>\n",
       "    <tr>\n",
       "      <th>19998</th>\n",
       "      <td>2013-09-04 18:00:00.001000+02:00</td>\n",
       "      <td>BancaItaliana</td>\n",
       "      <td>C01707603959501</td>\n",
       "      <td>Home of Crystal</td>\n",
       "      <td>1009533713</td>\n",
       "      <td>Debit Card</td>\n",
       "      <td>5950</td>\n",
       "      <td>13.15</td>\n",
       "      <td>1009533710</td>\n",
       "      <td>C017076039</td>\n",
       "      <td>51</td>\n",
       "      <td>APPR</td>\n",
       "      <td>N</td>\n",
       "      <td>2013-09-04</td>\n",
       "    </tr>\n",
       "    <tr>\n",
       "      <th>19999</th>\n",
       "      <td>2013-12-19 09:34:25.001000+02:00</td>\n",
       "      <td>BancaItaliana</td>\n",
       "      <td>C01707603956112</td>\n",
       "      <td>Uomo Elegante</td>\n",
       "      <td>1009533713</td>\n",
       "      <td>Debit Card</td>\n",
       "      <td>5611</td>\n",
       "      <td>58.72</td>\n",
       "      <td>1009533710</td>\n",
       "      <td>C017076039</td>\n",
       "      <td>51</td>\n",
       "      <td>APPR</td>\n",
       "      <td>N</td>\n",
       "      <td>2013-12-19</td>\n",
       "    </tr>\n",
       "  </tbody>\n",
       "</table>\n",
       "<p>20000 rows × 14 columns</p>\n",
       "</div>"
      ],
      "text/plain": [
       "                           DATE_CREDIT       ENV_NAME             ENV_ID  \\\n",
       "0     2013-04-03 00:47:00.001000+02:00  BancaItaliana  C0120580917273555   \n",
       "1     2013-01-19 18:55:12.001000+02:00  BancaItaliana  C0120580915621418   \n",
       "2     2013-06-03 19:58:05.001000+02:00  BancaItaliana  C0120580915311606   \n",
       "3     2013-06-03 00:02:00.001000+02:00  BancaItaliana  C0120580915814746   \n",
       "4     2013-03-02 16:00:00.001000+02:00  BancaItaliana  C0120580915992763   \n",
       "...                                ...            ...                ...   \n",
       "19995 2013-03-27 18:00:00.001000+02:00  BancaItaliana    C01707603959502   \n",
       "19996 2013-08-04 16:38:12.008000+02:00  BancaItaliana    C01707603978321   \n",
       "19997 2013-09-11 18:00:00.001000+02:00  BancaItaliana    C01707603957191   \n",
       "19998 2013-09-04 18:00:00.001000+02:00  BancaItaliana    C01707603959501   \n",
       "19999 2013-12-19 09:34:25.001000+02:00  BancaItaliana    C01707603956112   \n",
       "\n",
       "                ENV_TYPE  ENV_CPL_PAN   CARD_BRND  TX_MRCHNT_ID  TX_TOTAL_AMT  \\\n",
       "0         Don't be alone   1009549375   Visa Gold          7273         84.87   \n",
       "1         Donna Elegante   1009549375   Visa Gold          5621        179.43   \n",
       "2           Rinascimento   1009549375   Visa Gold          5311        140.34   \n",
       "3             Eat and Go   1009549375   Visa Gold          5814        144.10   \n",
       "4               Florists   1009549375   Visa Gold          5992        111.73   \n",
       "...                  ...          ...         ...           ...           ...   \n",
       "19995    Home of Crystal   1009533713  Debit Card          5950         20.05   \n",
       "19996             Movies   1009533713  Debit Card          7832         24.91   \n",
       "19997  My Beatiful House   1009533713  Debit Card          5719         31.35   \n",
       "19998    Home of Crystal   1009533713  Debit Card          5950         13.15   \n",
       "19999      Uomo Elegante   1009533713  Debit Card          5611         58.72   \n",
       "\n",
       "          CONT_ID POSTAL_CODE  AGE AUTHORRESULT FRAUD_VER_RESULT        date  \n",
       "0      1009549370  C012058091   51         APPR                N  2013-04-03  \n",
       "1      1009549370  C012058091   51         APPR                N  2013-01-19  \n",
       "2      1009549370  C012058091   51         APPR                N  2013-06-03  \n",
       "3      1009549370  C012058091   51         APPR                N  2013-06-03  \n",
       "4      1009549370  C012058091   51         APPR                N  2013-03-02  \n",
       "...           ...         ...  ...          ...              ...         ...  \n",
       "19995  1009533710  C017076039   51         APPR                N  2013-03-27  \n",
       "19996  1009533710  C017076039   51         APPR                N  2013-08-04  \n",
       "19997  1009533710  C017076039   51         APPR                N  2013-09-11  \n",
       "19998  1009533710  C017076039   51         APPR                N  2013-09-04  \n",
       "19999  1009533710  C017076039   51         APPR                N  2013-12-19  \n",
       "\n",
       "[20000 rows x 14 columns]"
      ]
     },
     "execution_count": 4,
     "metadata": {},
     "output_type": "execute_result"
    }
   ],
   "source": [
    "txn_df['date'] = txn_df['DATE_CREDIT'].apply(lambda x: x.date())\n",
    "txn_df"
   ]
  },
  {
   "cell_type": "markdown",
   "metadata": {},
   "source": [
    "***Client Data***\n",
    "\n",
    "Load client data into a Pandas DataFrame."
   ]
  },
  {
   "cell_type": "code",
   "execution_count": 5,
   "metadata": {
    "collapsed": false,
    "jupyter": {
     "outputs_hidden": false
    }
   },
   "outputs": [
    {
     "data": {
      "text/html": [
       "<div>\n",
       "<style scoped>\n",
       "    .dataframe tbody tr th:only-of-type {\n",
       "        vertical-align: middle;\n",
       "    }\n",
       "\n",
       "    .dataframe tbody tr th {\n",
       "        vertical-align: top;\n",
       "    }\n",
       "\n",
       "    .dataframe thead th {\n",
       "        text-align: right;\n",
       "    }\n",
       "</style>\n",
       "<table border=\"1\" class=\"dataframe\">\n",
       "  <thead>\n",
       "    <tr style=\"text-align: right;\">\n",
       "      <th></th>\n",
       "      <th>GENDER</th>\n",
       "      <th>AGE_YEARS</th>\n",
       "      <th>HIGHEST_EDU</th>\n",
       "      <th>ANNUAL_INVEST</th>\n",
       "      <th>ANNUAL_INCOME</th>\n",
       "      <th>ACTIVITY_LEVEL</th>\n",
       "      <th>CHURN</th>\n",
       "      <th>RECORD_ID</th>\n",
       "    </tr>\n",
       "    <tr>\n",
       "      <th>CONT_ID</th>\n",
       "      <th></th>\n",
       "      <th></th>\n",
       "      <th></th>\n",
       "      <th></th>\n",
       "      <th></th>\n",
       "      <th></th>\n",
       "      <th></th>\n",
       "      <th></th>\n",
       "    </tr>\n",
       "  </thead>\n",
       "  <tbody>\n",
       "    <tr>\n",
       "      <th>1009520370</th>\n",
       "      <td>1</td>\n",
       "      <td>63.23</td>\n",
       "      <td>4</td>\n",
       "      <td>0.0</td>\n",
       "      <td>13035.0</td>\n",
       "      <td>3</td>\n",
       "      <td>0</td>\n",
       "      <td>0</td>\n",
       "    </tr>\n",
       "    <tr>\n",
       "      <th>1009520380</th>\n",
       "      <td>1</td>\n",
       "      <td>58.51</td>\n",
       "      <td>1</td>\n",
       "      <td>0.0</td>\n",
       "      <td>18267.0</td>\n",
       "      <td>0</td>\n",
       "      <td>0</td>\n",
       "      <td>600</td>\n",
       "    </tr>\n",
       "    <tr>\n",
       "      <th>1009520390</th>\n",
       "      <td>0</td>\n",
       "      <td>31.10</td>\n",
       "      <td>2</td>\n",
       "      <td>111192.0</td>\n",
       "      <td>129276.0</td>\n",
       "      <td>2</td>\n",
       "      <td>0</td>\n",
       "      <td>1200</td>\n",
       "    </tr>\n",
       "    <tr>\n",
       "      <th>1009520400</th>\n",
       "      <td>0</td>\n",
       "      <td>49.84</td>\n",
       "      <td>1</td>\n",
       "      <td>0.0</td>\n",
       "      <td>17867.0</td>\n",
       "      <td>2</td>\n",
       "      <td>0</td>\n",
       "      <td>1800</td>\n",
       "    </tr>\n",
       "    <tr>\n",
       "      <th>1009520410</th>\n",
       "      <td>1</td>\n",
       "      <td>53.33</td>\n",
       "      <td>1</td>\n",
       "      <td>0.0</td>\n",
       "      <td>17576.0</td>\n",
       "      <td>1</td>\n",
       "      <td>0</td>\n",
       "      <td>2400</td>\n",
       "    </tr>\n",
       "    <tr>\n",
       "      <th>...</th>\n",
       "      <td>...</td>\n",
       "      <td>...</td>\n",
       "      <td>...</td>\n",
       "      <td>...</td>\n",
       "      <td>...</td>\n",
       "      <td>...</td>\n",
       "      <td>...</td>\n",
       "      <td>...</td>\n",
       "    </tr>\n",
       "    <tr>\n",
       "      <th>1009580330</th>\n",
       "      <td>0</td>\n",
       "      <td>55.02</td>\n",
       "      <td>1</td>\n",
       "      <td>0.0</td>\n",
       "      <td>21324.0</td>\n",
       "      <td>1</td>\n",
       "      <td>0</td>\n",
       "      <td>3638448</td>\n",
       "    </tr>\n",
       "    <tr>\n",
       "      <th>1009580340</th>\n",
       "      <td>1</td>\n",
       "      <td>26.44</td>\n",
       "      <td>1</td>\n",
       "      <td>0.0</td>\n",
       "      <td>19635.0</td>\n",
       "      <td>2</td>\n",
       "      <td>1</td>\n",
       "      <td>3639048</td>\n",
       "    </tr>\n",
       "    <tr>\n",
       "      <th>1009580350</th>\n",
       "      <td>1</td>\n",
       "      <td>45.64</td>\n",
       "      <td>4</td>\n",
       "      <td>14742.0</td>\n",
       "      <td>48977.0</td>\n",
       "      <td>1</td>\n",
       "      <td>0</td>\n",
       "      <td>3639648</td>\n",
       "    </tr>\n",
       "    <tr>\n",
       "      <th>1009580360</th>\n",
       "      <td>1</td>\n",
       "      <td>35.77</td>\n",
       "      <td>4</td>\n",
       "      <td>11782.0</td>\n",
       "      <td>64028.0</td>\n",
       "      <td>2</td>\n",
       "      <td>0</td>\n",
       "      <td>3640248</td>\n",
       "    </tr>\n",
       "    <tr>\n",
       "      <th>1009580370</th>\n",
       "      <td>0</td>\n",
       "      <td>59.86</td>\n",
       "      <td>1</td>\n",
       "      <td>0.0</td>\n",
       "      <td>16546.0</td>\n",
       "      <td>4</td>\n",
       "      <td>0</td>\n",
       "      <td>3640848</td>\n",
       "    </tr>\n",
       "  </tbody>\n",
       "</table>\n",
       "<p>6001 rows × 8 columns</p>\n",
       "</div>"
      ],
      "text/plain": [
       "            GENDER  AGE_YEARS  HIGHEST_EDU  ANNUAL_INVEST  ANNUAL_INCOME  \\\n",
       "CONT_ID                                                                    \n",
       "1009520370       1      63.23            4            0.0        13035.0   \n",
       "1009520380       1      58.51            1            0.0        18267.0   \n",
       "1009520390       0      31.10            2       111192.0       129276.0   \n",
       "1009520400       0      49.84            1            0.0        17867.0   \n",
       "1009520410       1      53.33            1            0.0        17576.0   \n",
       "...            ...        ...          ...            ...            ...   \n",
       "1009580330       0      55.02            1            0.0        21324.0   \n",
       "1009580340       1      26.44            1            0.0        19635.0   \n",
       "1009580350       1      45.64            4        14742.0        48977.0   \n",
       "1009580360       1      35.77            4        11782.0        64028.0   \n",
       "1009580370       0      59.86            1            0.0        16546.0   \n",
       "\n",
       "            ACTIVITY_LEVEL  CHURN  RECORD_ID  \n",
       "CONT_ID                                       \n",
       "1009520370               3      0          0  \n",
       "1009520380               0      0        600  \n",
       "1009520390               2      0       1200  \n",
       "1009520400               2      0       1800  \n",
       "1009520410               1      0       2400  \n",
       "...                    ...    ...        ...  \n",
       "1009580330               1      0    3638448  \n",
       "1009580340               2      1    3639048  \n",
       "1009580350               1      0    3639648  \n",
       "1009580360               2      0    3640248  \n",
       "1009580370               4      0    3640848  \n",
       "\n",
       "[6001 rows x 8 columns]"
      ]
     },
     "execution_count": 5,
     "metadata": {},
     "output_type": "execute_result"
    }
   ],
   "source": [
    "client_df = pd.read_csv('clients.csv')\n",
    "client_df = client_df.set_index(\"CONT_ID\")\n",
    "client_df"
   ]
  },
  {
   "cell_type": "markdown",
   "metadata": {},
   "source": [
    "## Aggregate statistics\n",
    "Calculate a few aggregate statistics based on credit transactions and join the results to the client data DataFrame."
   ]
  },
  {
   "cell_type": "code",
   "execution_count": 6,
   "metadata": {
    "collapsed": false,
    "jupyter": {
     "outputs_hidden": false
    }
   },
   "outputs": [],
   "source": [
    "# Total transactions per customer\n",
    "total_txns_df = txn_df.groupby('CONT_ID').size().rename(\"total_txns\").to_frame()\n",
    "client_df = total_txns_df.join(client_df)"
   ]
  },
  {
   "cell_type": "code",
   "execution_count": 7,
   "metadata": {
    "collapsed": false,
    "jupyter": {
     "outputs_hidden": false
    }
   },
   "outputs": [],
   "source": [
    "# Total transaction amounts per customer\n",
    "total_txn_amount_df = txn_df.groupby('CONT_ID')['TX_TOTAL_AMT'].sum().rename(\"total_txn_amount\").to_frame()\n",
    "client_df = client_df.join(total_txn_amount_df)"
   ]
  },
  {
   "cell_type": "code",
   "execution_count": 8,
   "metadata": {
    "collapsed": false,
    "jupyter": {
     "outputs_hidden": false
    }
   },
   "outputs": [],
   "source": [
    "# Average transaction amounts per customer\n",
    "avg_txn_amount_df = txn_df.groupby('CONT_ID')['TX_TOTAL_AMT'].mean().rename(\"avg_txn_amount\").to_frame()\n",
    "client_df = client_df.join(avg_txn_amount_df)"
   ]
  },
  {
   "cell_type": "code",
   "execution_count": 9,
   "metadata": {
    "collapsed": false,
    "jupyter": {
     "outputs_hidden": false
    }
   },
   "outputs": [],
   "source": [
    "# Average daily transactions per customer\n",
    "daily_txns = txn_df.groupby(['date', 'CONT_ID']).size()"
   ]
  },
  {
   "cell_type": "code",
   "execution_count": 10,
   "metadata": {
    "collapsed": false,
    "jupyter": {
     "outputs_hidden": false
    }
   },
   "outputs": [
    {
     "data": {
      "text/html": [
       "<div>\n",
       "<style scoped>\n",
       "    .dataframe tbody tr th:only-of-type {\n",
       "        vertical-align: middle;\n",
       "    }\n",
       "\n",
       "    .dataframe tbody tr th {\n",
       "        vertical-align: top;\n",
       "    }\n",
       "\n",
       "    .dataframe thead th {\n",
       "        text-align: right;\n",
       "    }\n",
       "</style>\n",
       "<table border=\"1\" class=\"dataframe\">\n",
       "  <thead>\n",
       "    <tr style=\"text-align: right;\">\n",
       "      <th></th>\n",
       "      <th>total_txns</th>\n",
       "      <th>GENDER</th>\n",
       "      <th>AGE_YEARS</th>\n",
       "      <th>HIGHEST_EDU</th>\n",
       "      <th>ANNUAL_INVEST</th>\n",
       "      <th>ANNUAL_INCOME</th>\n",
       "      <th>ACTIVITY_LEVEL</th>\n",
       "      <th>CHURN</th>\n",
       "      <th>RECORD_ID</th>\n",
       "      <th>total_txn_amount</th>\n",
       "      <th>avg_txn_amount</th>\n",
       "      <th>avg_daily_txns</th>\n",
       "    </tr>\n",
       "    <tr>\n",
       "      <th>CONT_ID</th>\n",
       "      <th></th>\n",
       "      <th></th>\n",
       "      <th></th>\n",
       "      <th></th>\n",
       "      <th></th>\n",
       "      <th></th>\n",
       "      <th></th>\n",
       "      <th></th>\n",
       "      <th></th>\n",
       "      <th></th>\n",
       "      <th></th>\n",
       "      <th></th>\n",
       "    </tr>\n",
       "  </thead>\n",
       "  <tbody>\n",
       "    <tr>\n",
       "      <th>1009525770</th>\n",
       "      <td>104</td>\n",
       "      <td>1</td>\n",
       "      <td>24.50</td>\n",
       "      <td>1</td>\n",
       "      <td>0.0</td>\n",
       "      <td>22318.0</td>\n",
       "      <td>2</td>\n",
       "      <td>0</td>\n",
       "      <td>327680</td>\n",
       "      <td>4159.56</td>\n",
       "      <td>39.995769</td>\n",
       "      <td>0.284932</td>\n",
       "    </tr>\n",
       "    <tr>\n",
       "      <th>1009526100</th>\n",
       "      <td>244</td>\n",
       "      <td>1</td>\n",
       "      <td>71.56</td>\n",
       "      <td>1</td>\n",
       "      <td>0.0</td>\n",
       "      <td>23688.0</td>\n",
       "      <td>0</td>\n",
       "      <td>1</td>\n",
       "      <td>347480</td>\n",
       "      <td>10196.84</td>\n",
       "      <td>41.790328</td>\n",
       "      <td>0.668493</td>\n",
       "    </tr>\n",
       "    <tr>\n",
       "      <th>1009526540</th>\n",
       "      <td>69</td>\n",
       "      <td>0</td>\n",
       "      <td>39.86</td>\n",
       "      <td>1</td>\n",
       "      <td>0.0</td>\n",
       "      <td>22628.0</td>\n",
       "      <td>3</td>\n",
       "      <td>0</td>\n",
       "      <td>374248</td>\n",
       "      <td>3591.61</td>\n",
       "      <td>52.052319</td>\n",
       "      <td>0.189041</td>\n",
       "    </tr>\n",
       "    <tr>\n",
       "      <th>1009526580</th>\n",
       "      <td>48</td>\n",
       "      <td>1</td>\n",
       "      <td>85.43</td>\n",
       "      <td>1</td>\n",
       "      <td>0.0</td>\n",
       "      <td>16787.0</td>\n",
       "      <td>4</td>\n",
       "      <td>0</td>\n",
       "      <td>376648</td>\n",
       "      <td>1353.68</td>\n",
       "      <td>28.201667</td>\n",
       "      <td>0.131507</td>\n",
       "    </tr>\n",
       "    <tr>\n",
       "      <th>1009526770</th>\n",
       "      <td>69</td>\n",
       "      <td>0</td>\n",
       "      <td>66.09</td>\n",
       "      <td>4</td>\n",
       "      <td>13244.0</td>\n",
       "      <td>44395.0</td>\n",
       "      <td>2</td>\n",
       "      <td>0</td>\n",
       "      <td>388048</td>\n",
       "      <td>4986.94</td>\n",
       "      <td>72.274493</td>\n",
       "      <td>0.189041</td>\n",
       "    </tr>\n",
       "    <tr>\n",
       "      <th>...</th>\n",
       "      <td>...</td>\n",
       "      <td>...</td>\n",
       "      <td>...</td>\n",
       "      <td>...</td>\n",
       "      <td>...</td>\n",
       "      <td>...</td>\n",
       "      <td>...</td>\n",
       "      <td>...</td>\n",
       "      <td>...</td>\n",
       "      <td>...</td>\n",
       "      <td>...</td>\n",
       "      <td>...</td>\n",
       "    </tr>\n",
       "    <tr>\n",
       "      <th>1009578130</th>\n",
       "      <td>101</td>\n",
       "      <td>1</td>\n",
       "      <td>51.61</td>\n",
       "      <td>1</td>\n",
       "      <td>0.0</td>\n",
       "      <td>19129.0</td>\n",
       "      <td>3</td>\n",
       "      <td>0</td>\n",
       "      <td>3504608</td>\n",
       "      <td>3589.87</td>\n",
       "      <td>35.543267</td>\n",
       "      <td>0.276712</td>\n",
       "    </tr>\n",
       "    <tr>\n",
       "      <th>1009578550</th>\n",
       "      <td>238</td>\n",
       "      <td>1</td>\n",
       "      <td>65.58</td>\n",
       "      <td>1</td>\n",
       "      <td>0.0</td>\n",
       "      <td>16817.0</td>\n",
       "      <td>2</td>\n",
       "      <td>0</td>\n",
       "      <td>3530176</td>\n",
       "      <td>7809.92</td>\n",
       "      <td>32.814790</td>\n",
       "      <td>0.652055</td>\n",
       "    </tr>\n",
       "    <tr>\n",
       "      <th>1009578760</th>\n",
       "      <td>242</td>\n",
       "      <td>1</td>\n",
       "      <td>25.41</td>\n",
       "      <td>1</td>\n",
       "      <td>0.0</td>\n",
       "      <td>16971.0</td>\n",
       "      <td>5</td>\n",
       "      <td>0</td>\n",
       "      <td>3543144</td>\n",
       "      <td>7642.24</td>\n",
       "      <td>31.579504</td>\n",
       "      <td>0.663014</td>\n",
       "    </tr>\n",
       "    <tr>\n",
       "      <th>1009578840</th>\n",
       "      <td>185</td>\n",
       "      <td>0</td>\n",
       "      <td>48.45</td>\n",
       "      <td>1</td>\n",
       "      <td>0.0</td>\n",
       "      <td>13039.0</td>\n",
       "      <td>1</td>\n",
       "      <td>0</td>\n",
       "      <td>3547944</td>\n",
       "      <td>5088.76</td>\n",
       "      <td>27.506811</td>\n",
       "      <td>0.506849</td>\n",
       "    </tr>\n",
       "    <tr>\n",
       "      <th>1009578870</th>\n",
       "      <td>152</td>\n",
       "      <td>1</td>\n",
       "      <td>49.64</td>\n",
       "      <td>3</td>\n",
       "      <td>74025.0</td>\n",
       "      <td>97865.0</td>\n",
       "      <td>3</td>\n",
       "      <td>0</td>\n",
       "      <td>3549744</td>\n",
       "      <td>13757.32</td>\n",
       "      <td>90.508684</td>\n",
       "      <td>0.416438</td>\n",
       "    </tr>\n",
       "  </tbody>\n",
       "</table>\n",
       "<p>112 rows × 12 columns</p>\n",
       "</div>"
      ],
      "text/plain": [
       "            total_txns  GENDER  AGE_YEARS  HIGHEST_EDU  ANNUAL_INVEST  \\\n",
       "CONT_ID                                                                 \n",
       "1009525770         104       1      24.50            1            0.0   \n",
       "1009526100         244       1      71.56            1            0.0   \n",
       "1009526540          69       0      39.86            1            0.0   \n",
       "1009526580          48       1      85.43            1            0.0   \n",
       "1009526770          69       0      66.09            4        13244.0   \n",
       "...                ...     ...        ...          ...            ...   \n",
       "1009578130         101       1      51.61            1            0.0   \n",
       "1009578550         238       1      65.58            1            0.0   \n",
       "1009578760         242       1      25.41            1            0.0   \n",
       "1009578840         185       0      48.45            1            0.0   \n",
       "1009578870         152       1      49.64            3        74025.0   \n",
       "\n",
       "            ANNUAL_INCOME  ACTIVITY_LEVEL  CHURN  RECORD_ID  total_txn_amount  \\\n",
       "CONT_ID                                                                         \n",
       "1009525770        22318.0               2      0     327680           4159.56   \n",
       "1009526100        23688.0               0      1     347480          10196.84   \n",
       "1009526540        22628.0               3      0     374248           3591.61   \n",
       "1009526580        16787.0               4      0     376648           1353.68   \n",
       "1009526770        44395.0               2      0     388048           4986.94   \n",
       "...                   ...             ...    ...        ...               ...   \n",
       "1009578130        19129.0               3      0    3504608           3589.87   \n",
       "1009578550        16817.0               2      0    3530176           7809.92   \n",
       "1009578760        16971.0               5      0    3543144           7642.24   \n",
       "1009578840        13039.0               1      0    3547944           5088.76   \n",
       "1009578870        97865.0               3      0    3549744          13757.32   \n",
       "\n",
       "            avg_txn_amount  avg_daily_txns  \n",
       "CONT_ID                                     \n",
       "1009525770       39.995769        0.284932  \n",
       "1009526100       41.790328        0.668493  \n",
       "1009526540       52.052319        0.189041  \n",
       "1009526580       28.201667        0.131507  \n",
       "1009526770       72.274493        0.189041  \n",
       "...                    ...             ...  \n",
       "1009578130       35.543267        0.276712  \n",
       "1009578550       32.814790        0.652055  \n",
       "1009578760       31.579504        0.663014  \n",
       "1009578840       27.506811        0.506849  \n",
       "1009578870       90.508684        0.416438  \n",
       "\n",
       "[112 rows x 12 columns]"
      ]
     },
     "execution_count": 10,
     "metadata": {},
     "output_type": "execute_result"
    }
   ],
   "source": [
    "# Missing transactions on a particular day means customer had none.\n",
    "# These days should be included in the average as 0 transaction days.\n",
    "avg_daily_txns_df = daily_txns.unstack().fillna(0).mean().rename(\"avg_daily_txns\").to_frame()\n",
    "client_df = client_df.join(avg_daily_txns_df)\n",
    "client_df"
   ]
  },
  {
   "cell_type": "markdown",
   "metadata": {},
   "source": [
    "### Exploratory Analyses\n",
    "We begin our exploration of the data set by creating a scatterplot of ANNUAL_INCOME vs. AGE_YEARS and their associated histograms. Matplotlib and Seaborn are two common plotting libraries used in Python.  These plotting libraries are useful in creating custom visualizations to help gain insights from our data."
   ]
  },
  {
   "cell_type": "code",
   "execution_count": 11,
   "metadata": {
    "collapsed": false,
    "jupyter": {
     "outputs_hidden": false
    },
    "scrolled": true
   },
   "outputs": [],
   "source": [
    "import matplotlib.pyplot as plt\n",
    "import seaborn as sns\n",
    "sns.set(style=\"whitegrid\")\n",
    "%matplotlib inline"
   ]
  },
  {
   "cell_type": "code",
   "execution_count": 12,
   "metadata": {
    "tags": []
   },
   "outputs": [],
   "source": [
    "def jointplot(x, y, data, **kwargs):\n",
    "    size = kwargs.pop('size', 10)\n",
    "    alpha = kwargs.pop('alpha', 0.3)\n",
    "    return sns.jointplot(x=x, y=y, data=data, \n",
    "                         alpha=alpha,\n",
    "                         size=size,\n",
    "                         **kwargs)\n",
    "\n",
    "# for widget\n",
    "def w_jointplot(x, y):\n",
    "    g = jointplot(x, y, filter_outliers(client_df, by_col=y))\n",
    "    plt.close()\n",
    "    return g.fig"
   ]
  },
  {
   "cell_type": "code",
   "execution_count": 13,
   "metadata": {
    "tags": []
   },
   "outputs": [],
   "source": [
    "churn_labels = ['Did not churn', 'Did churn']\n",
    "\n",
    "def filter_outliers(d, by_col=None):\n",
    "    if isinstance(d, pd.\n",
    "                  Series):\n",
    "        return d[((d-d.mean()).abs()<=3*d.std())]\n",
    "    elif isinstance(d, pd.DataFrame):\n",
    "        if not by_col:\n",
    "            raise ValueError('by_col is required for DataFrame')\n",
    "        return d[np.abs(d[by_col]-d[by_col].mean())<=(3*d[by_col].std())] "
   ]
  },
  {
   "cell_type": "code",
   "execution_count": 14,
   "metadata": {
    "collapsed": false,
    "jupyter": {
     "outputs_hidden": false
    }
   },
   "outputs": [
    {
     "data": {
      "image/png": "[encoded data removed]",
      "text/plain": [
       "<Figure size 720x720 with 3 Axes>"
      ]
     },
     "metadata": {
      "needs_background": "light"
     },
     "output_type": "display_data"
    }
   ],
   "source": [
    "ax = jointplot('AGE_YEARS', 'ANNUAL_INCOME', filter_outliers(client_df, by_col='ANNUAL_INCOME'))"
   ]
  },
  {
   "cell_type": "markdown",
   "metadata": {},
   "source": [
    "### Correlations\n",
    "Next, we compute the correlation coefficients between each variable and create a color-coded correlation matrix. "
   ]
  },
  {
   "cell_type": "code",
   "execution_count": 15,
   "metadata": {
    "collapsed": false,
    "jupyter": {
     "outputs_hidden": false
    }
   },
   "outputs": [
    {
     "data": {
      "image/png": "[encoded data removed]",
      "text/plain": [
       "<Figure size 864x864 with 2 Axes>"
      ]
     },
     "metadata": {
      "needs_background": "light"
     },
     "output_type": "display_data"
    }
   ],
   "source": [
    "corr = client_df.corr()\n",
    "\n",
    "# only show lower triangle\n",
    "mask = np.zeros_like(corr)\n",
    "mask[np.triu_indices_from(mask)] = True\n",
    "\n",
    "f, ax = plt.subplots(figsize=(12,12))\n",
    "ax = sns.heatmap(corr, mask=mask, square=True, annot=True, fmt='.2f',\n",
    "                 cbar=True,\n",
    "                 ax=ax)\n",
    "title = ax.set_title('Correlations', size=14)"
   ]
  },
  {
   "cell_type": "markdown",
   "metadata": {},
   "source": [
    "## Churn\n",
    "Here we plot the distributions of clients who did and did not churn. The green histogram shows the number of clients who did churn. The blue histogram shows the number of clients who did not churn.  The line graphs show the density functions for each case. "
   ]
  },
  {
   "cell_type": "code",
   "execution_count": 16,
   "metadata": {
    "collapsed": false,
    "jupyter": {
     "outputs_hidden": false
    }
   },
   "outputs": [
    {
     "data": {
      "image/png": "[encoded data removed]",
      "text/plain": [
       "<Figure size 864x720 with 1 Axes>"
      ]
     },
     "metadata": {
      "needs_background": "light"
     },
     "output_type": "display_data"
    }
   ],
   "source": [
    "def plot_churn_by(df, col, **kwargs):\n",
    "    f, ax = plt.subplots(figsize=(12,10), sharex=True)\n",
    "    kde = kwargs.get('kde', False)\n",
    "    hist = kwargs.get('hist', False)\n",
    "    for churn in df.CHURN.unique():\n",
    "        sns.distplot(df[df.CHURN == churn][col], \n",
    "                     label=churn_labels[churn], \n",
    "                     kde_kws={'shade': (kde and not hist)},\n",
    "                     ax=ax, \n",
    "                     **kwargs)\n",
    "\n",
    "    ax.set_title('Client Churn by {}'.format(col))\n",
    "    label = ax.set_xlabel('{}'.format(col))\n",
    "    return f, ax\n",
    "\n",
    "def w_plot_churn_by(column, hist=True, kde=False, norm_hist=False):\n",
    "    df = filter_outliers(client_df, by_col=column)\n",
    "    f, ax = plot_churn_by(df, column, hist=hist, kde=kde, norm_hist=norm_hist)\n",
    "    plt.legend()\n",
    "    plt.close()\n",
    "    return f\n",
    "\n",
    "f, ax = plot_churn_by(client_df, 'AGE_YEARS')\n",
    "ax = plt.legend()"
   ]
  },
  {
   "cell_type": "markdown",
   "metadata": {},
   "source": [
    "As shown in the correlation matrix above, the two features that showed a negative correlation with churn were age and activity level. Here we generate a boxplot with those two features as the axes, and churn as the category. The plot shows that clients that churn tend to be younger across all levels of activity."
   ]
  },
  {
   "cell_type": "code",
   "execution_count": 17,
   "metadata": {
    "collapsed": false,
    "jupyter": {
     "outputs_hidden": false
    }
   },
   "outputs": [
    {
     "data": {
      "image/png": "[encoded data removed]",
      "text/plain": [
       "<Figure size 864x576 with 1 Axes>"
      ]
     },
     "metadata": {
      "needs_background": "light"
     },
     "output_type": "display_data"
    }
   ],
   "source": [
    "col = 'AGE_YEARS'\n",
    "data = filter_outliers(client_df, by_col=col)\n",
    "\n",
    "f, ax = plt.subplots(figsize=(12,8))\n",
    "ax = sns.boxplot(x='ACTIVITY_LEVEL', y=col, hue=\"CHURN\", data=data, \n",
    "                 palette='muted', ax=ax)\n",
    "title = ax.set_title('Client Churn by Activity Level')\n",
    "label = ax.set_ylabel('Age (Years)')\n",
    "label = ax.set_xlabel('Activity Level')\n",
    "handles, labels = ax.get_legend_handles_labels()\n",
    "legend = ax.legend(handles, churn_labels)"
   ]
  },
  {
   "cell_type": "markdown",
   "metadata": {},
   "source": [
    "This beeswarm plot shows clients binned by the level of activity they maintain with the bank. Clients that churned maintained lower levels of activity (0-2). And of clients within these lower activity levels, younger clients churned more than others."
   ]
  },
  {
   "cell_type": "code",
   "execution_count": 18,
   "metadata": {
    "collapsed": false,
    "jupyter": {
     "outputs_hidden": false
    }
   },
   "outputs": [
    {
     "data": {
      "image/png": "[encoded data removed]",
      "text/plain": [
       "<Figure size 720x576 with 1 Axes>"
      ]
     },
     "metadata": {
      "needs_background": "light"
     },
     "output_type": "display_data"
    }
   ],
   "source": [
    "f, ax = plt.subplots(figsize=(10,8))\n",
    "ax = sns.swarmplot(x='ACTIVITY_LEVEL', y='AGE_YEARS', hue='CHURN', \n",
    "                   data=data.sample(n=100, random_state=51), \n",
    "                   palette='muted', ax=ax)\n",
    "title = ax.set_title('Client Churn by Activity Level')\n",
    "label = ax.set_ylabel('Age (Years)')\n",
    "label = ax.set_xlabel('Activity Level')\n",
    "handles, labels = ax.get_legend_handles_labels()\n",
    "legend = ax.legend(handles, churn_labels)"
   ]
  },
  {
   "cell_type": "markdown",
   "metadata": {},
   "source": [
    "## Train churn model\n",
    "We now start to do some predictive analyses on the data to evaluate customer churn. To keep things simple, we use a single data set, which we split into training and test data sets. We use the training data to train the model, and the test data to make predictions about lost revenue to the bank.\n",
    "\n",
    "We use a supervised learning algorithm, random forest, to train the model. Random Forest is a popular algorithm for both classification and regression. It requires very little tuning and is less prone to overfitting. Random forest is an aggregation of decision trees where each tree classifies an observation in a dataset. Since random forest aggregates many classifiers, it is considered an ensemble method. Using scikit learn, we create our random forest for classification. "
   ]
  },
  {
   "cell_type": "code",
   "execution_count": 19,
   "metadata": {
    "collapsed": false,
    "jupyter": {
     "outputs_hidden": false
    }
   },
   "outputs": [],
   "source": [
    "from sklearn.ensemble import RandomForestClassifier as RF\n",
    "from sklearn.preprocessing import StandardScaler, MinMaxScaler\n",
    "from sklearn.model_selection import train_test_split"
   ]
  },
  {
   "cell_type": "code",
   "execution_count": 20,
   "metadata": {
    "tags": []
   },
   "outputs": [],
   "source": [
    "def make_feature_space(df):\n",
    "    '''Create the feature space required by our classifier.'''\n",
    "    # drop columns/features we don't want/need for the classifier\n",
    "    features_df = df.drop(['CHURN', 'CUSTOMER_ID'], axis=1, errors='ignore')\n",
    "    X = features_df.to_numpy()\n",
    "    # normalize feature values\n",
    "    scaler = StandardScaler()\n",
    "    X = scaler.fit_transform(X)\n",
    "    return X\n",
    "\n",
    "def predict_churn(X):\n",
    "    '''Predict the probabilit of churn from feature set.'''\n",
    "    return clf.predict_proba(X)[:,1]\n",
    "\n",
    "def train_model(X, y):\n",
    "    '''Train our classifier using features X and target variable y.'''\n",
    "    clf = RF(n_estimators=100)\n",
    "    return clf.fit(X, y)\n",
    "\n",
    "# Train the model\n",
    "# split data into train, test sets\n",
    "from sklearn.model_selection import train_test_split\n",
    "train_df, test_df = train_test_split(client_df, test_size=0.2)\n",
    "\n",
    "# target variable\n",
    "y = np.array(train_df['CHURN'])\n",
    "\n",
    "# extract features\n",
    "X = make_feature_space(train_df)\n",
    "\n",
    "# train classifier\n",
    "clf = train_model(X, y)"
   ]
  },
  {
   "cell_type": "markdown",
   "metadata": {},
   "source": [
    "After training the model, the churn classifier and the test data set are used for our churn predictions."
   ]
  },
  {
   "cell_type": "code",
   "execution_count": 21,
   "metadata": {
    "collapsed": false,
    "jupyter": {
     "outputs_hidden": false
    }
   },
   "outputs": [
    {
     "data": {
      "text/plain": [
       "RandomForestClassifier()"
      ]
     },
     "execution_count": 21,
     "metadata": {},
     "output_type": "execute_result"
    }
   ],
   "source": [
    "clf"
   ]
  },
  {
   "cell_type": "markdown",
   "metadata": {},
   "source": [
    "## Export trained model into ONNX format \n",
    "sklearn-onnx converts models in ONNX format which can be then used to compute predictions with another backend on a different platform. sci-learn is supported on most of the platforms including IBM LinuxONE. So there is no need to do it. However for any platform specific models it's the way to expand the range of supported platforms.  A non-IBM LinuxONE can be exported to ONNX and then executed on IBM LinuxONE."
   ]
  },
  {
   "cell_type": "code",
   "execution_count": 22,
   "metadata": {},
   "outputs": [
    {
     "ename": "ModuleNotFoundError",
     "evalue": "No module named 'skl2onnx'",
     "output_type": "error",
     "traceback": [
      "\u001b[0;31m---------------------------------------------------------------------------\u001b[0m",
      "\u001b[0;31mModuleNotFoundError\u001b[0m                       Traceback (most recent call last)",
      "\u001b[0;32m/tmp/ipykernel_103/1337878836.py\u001b[0m in \u001b[0;36m<module>\u001b[0;34m\u001b[0m\n\u001b[1;32m      1\u001b[0m \u001b[0;31m# Convert into ONNX format\u001b[0m\u001b[0;34m\u001b[0m\u001b[0;34m\u001b[0m\u001b[0m\n\u001b[0;32m----> 2\u001b[0;31m \u001b[0;32mfrom\u001b[0m \u001b[0mskl2onnx\u001b[0m \u001b[0;32mimport\u001b[0m \u001b[0mconvert_sklearn\u001b[0m\u001b[0;34m\u001b[0m\u001b[0;34m\u001b[0m\u001b[0m\n\u001b[0m\u001b[1;32m      3\u001b[0m \u001b[0;32mfrom\u001b[0m \u001b[0mskl2onnx\u001b[0m\u001b[0;34m.\u001b[0m\u001b[0mcommon\u001b[0m\u001b[0;34m.\u001b[0m\u001b[0mdata_types\u001b[0m \u001b[0;32mimport\u001b[0m \u001b[0mFloatTensorType\u001b[0m\u001b[0;34m\u001b[0m\u001b[0;34m\u001b[0m\u001b[0m\n\u001b[1;32m      4\u001b[0m \u001b[0minitial_type\u001b[0m \u001b[0;34m=\u001b[0m \u001b[0;34m[\u001b[0m\u001b[0;34m(\u001b[0m\u001b[0;34m'float_input'\u001b[0m\u001b[0;34m,\u001b[0m \u001b[0mFloatTensorType\u001b[0m\u001b[0;34m(\u001b[0m\u001b[0;34m[\u001b[0m\u001b[0;32mNone\u001b[0m\u001b[0;34m,\u001b[0m \u001b[0;36m4\u001b[0m\u001b[0;34m]\u001b[0m\u001b[0;34m)\u001b[0m\u001b[0;34m)\u001b[0m\u001b[0;34m]\u001b[0m\u001b[0;34m\u001b[0m\u001b[0;34m\u001b[0m\u001b[0m\n\u001b[1;32m      5\u001b[0m \u001b[0monx\u001b[0m \u001b[0;34m=\u001b[0m \u001b[0mconvert_sklearn\u001b[0m\u001b[0;34m(\u001b[0m\u001b[0mclf\u001b[0m\u001b[0;34m,\u001b[0m \u001b[0minitial_types\u001b[0m\u001b[0;34m=\u001b[0m\u001b[0minitial_type\u001b[0m\u001b[0;34m)\u001b[0m\u001b[0;34m\u001b[0m\u001b[0;34m\u001b[0m\u001b[0m\n",
      "\u001b[0;31mModuleNotFoundError\u001b[0m: No module named 'skl2onnx'"
     ]
    }
   ],
   "source": [
    "# Convert into ONNX format\n",
    "from skl2onnx import convert_sklearn\n",
    "from skl2onnx.common.data_types import FloatTensorType\n",
    "initial_type = [('float_input', FloatTensorType([None, 4]))]\n",
    "onx = convert_sklearn(clf, initial_types=initial_type)\n",
    "with open(\"customer_churn.onnx\", \"wb\") as f:\n",
    "    f.write(onx.SerializeToString())"
   ]
  },
  {
   "cell_type": "markdown",
   "metadata": {
    "tags": []
   },
   "source": [
    "## Calculate business loss\n",
    "In this simple example, we calculate the predicted loss of business (revenue) for all clients in the test data set. We calculate the revenue from each client, and multiply that by the churn probability to determine the predicted loss."
   ]
  },
  {
   "cell_type": "code",
   "execution_count": null,
   "metadata": {
    "collapsed": false,
    "jupyter": {
     "outputs_hidden": false
    }
   },
   "outputs": [],
   "source": [
    "def calc_business_loss_random_forest(df):\n",
    "    df['CUSTOMER_ID'] = df.index\n",
    "    data = df.copy()\n",
    "\n",
    "    # extract features\n",
    "    X = make_feature_space(df)\n",
    "    \n",
    "    # predict churn\n",
    "    data['churn_probability'] = predict_churn(X)\n",
    "    \n",
    "    # TODO: avg_daily_balance would be a nice feature to have here\n",
    "    # for now, we'll just use fraction of income\n",
    "    avg_daily_balance = df['ANNUAL_INCOME'] / 6\n",
    "\n",
    "    # Interest made on deposits\n",
    "    deposit_rate = 0.02\n",
    "\n",
    "    # Fee collected for each credit txn\n",
    "    credit_rate = 0.015\n",
    "\n",
    "    # Assume we make some money on trading fees and/or portfolio management\n",
    "    mgmt_rate = 0.02\n",
    "\n",
    "    # How much is each customer worth to the business?\n",
    "    worth = deposit_rate * avg_daily_balance + \\\n",
    "            mgmt_rate * df['ANNUAL_INVEST'] + \\\n",
    "            credit_rate * df['total_txn_amount']\n",
    "    data['worth'] = worth\n",
    "    \n",
    "    # How much would we lose per annum?\n",
    "    data['predicted_loss'] = data['churn_probability'] * worth\n",
    "    \n",
    "    return data.sort_values(by='predicted_loss', ascending=False)"
   ]
  },
  {
   "cell_type": "code",
   "execution_count": null,
   "metadata": {
    "collapsed": false,
    "jupyter": {
     "outputs_hidden": false
    }
   },
   "outputs": [],
   "source": [
    "churn_df = calc_business_loss_random_forest(test_df)\n",
    "churn_df.head()"
   ]
  },
  {
   "cell_type": "markdown",
   "metadata": {},
   "source": [
    "## Loss by Age Group\n",
    "In this section, we calculate and plot the predicted loss of revenue by age group. In our data set, age is an important feature in predicting if a client will churn. We create a DataFrame containing the cumulative predicted loss by age group."
   ]
  },
  {
   "cell_type": "code",
   "execution_count": null,
   "metadata": {
    "collapsed": false,
    "jupyter": {
     "outputs_hidden": false
    }
   },
   "outputs": [],
   "source": [
    "def group_by_age(df, bins=None):\n",
    "    if bins is None:\n",
    "        bin_size = 5\n",
    "        _min, _max = int(df.AGE_YEARS.min()), int(df.AGE_YEARS.max())\n",
    "        bins = range(_min, _max + bin_size, 5)\n",
    "    return df.groupby(pd.cut(df.AGE_YEARS, bins=bins))\n",
    "\n",
    "data_by_age = churn_df.pipe(group_by_age)"
   ]
  },
  {
   "cell_type": "code",
   "execution_count": null,
   "metadata": {
    "collapsed": false,
    "jupyter": {
     "outputs_hidden": false
    }
   },
   "outputs": [],
   "source": [
    "loss_by_age_df = data_by_age['predicted_loss'].sum().reset_index()\n",
    "loss_by_age_df['AGE_YEARS'] = loss_by_age_df['AGE_YEARS'].astype(str)\n",
    "\n",
    "loss_by_age_df.plot(x='AGE_YEARS', y='predicted_loss', style='o')"
   ]
  },
  {
   "cell_type": "markdown",
   "metadata": {},
   "source": [
    "## Predictive Analyses\n",
    "\n",
    "We now start to do some predictive analyses on the data to evaluate cutomer churn based on activity level. We use a supervised learning algorithm, logistic regression, to train the model. Logistic regression is a common, fast, highly scalable, classification model that doesn't require much tuning and is easy to regularize. The model outputs a set of probabilities which can be more useful than class labels. Here, we will use PyTorch Machine Learning library to create our model."
   ]
  },
  {
   "cell_type": "markdown",
   "metadata": {},
   "source": [
    "Pytorch works with tensors. So, the first steps is to convert train and test datasets into tensors using the “torch.from_numpy()” method. The datatype should be converted into float32 before this. Which can be done using “astype()” function."
   ]
  },
  {
   "cell_type": "code",
   "execution_count": null,
   "metadata": {},
   "outputs": [],
   "source": [
    "import torch\n",
    "scaler = MinMaxScaler()\n",
    "#'ACTIVITY_LEVEL','total_txn_amount','avg_txn_amount','avg_daily_txns'\n",
    "x_train=torch.from_numpy(scaler.fit_transform(train_df[['ACTIVITY_LEVEL']].astype(np.float32).values))\n",
    "x_test=torch.from_numpy(scaler.fit_transform(test_df[['ACTIVITY_LEVEL']].astype(np.float32).values))\n",
    "y_train=torch.from_numpy(train_df['CHURN'].astype(np.float32).values)\n",
    "y_test=torch.from_numpy(test_df['CHURN'].astype(np.float32).values)\n",
    "#\n",
    "n_features = 1\n",
    "#\n",
    "y_train=y_train.view(y_train.shape[0],1)\n",
    "y_test=y_test.view(y_test.shape[0],1)"
   ]
  },
  {
   "cell_type": "markdown",
   "metadata": {},
   "source": [
    "Next we create a custom model in PyTorch for logistic regression. For that we define a class with the model name. This class should derive torch.nn.Module."
   ]
  },
  {
   "cell_type": "code",
   "execution_count": null,
   "metadata": {},
   "outputs": [],
   "source": [
    "class LogisticRegressionModel(torch.nn.Module):\n",
    " def __init__(self,no_input_features):\n",
    "   super(LogisticRegressionModel,self).__init__()\n",
    "   self.linear=torch.nn.Linear(no_input_features,1)\n",
    " def forward(self,x):\n",
    "   y_predicted=torch.sigmoid(self.linear(x))\n",
    "   return y_predicted\n"
   ]
  },
  {
   "cell_type": "markdown",
   "metadata": {},
   "source": [
    "After defining the class, we initialize the model."
   ]
  },
  {
   "cell_type": "code",
   "execution_count": null,
   "metadata": {},
   "outputs": [],
   "source": [
    "lr_model=LogisticRegressionModel(n_features)"
   ]
  },
  {
   "cell_type": "markdown",
   "metadata": {},
   "source": [
    "Learning rate “lr” is set to 0.01, but it's a hyperparameter that should be fine-tuned to an optimal value. The number of epochs is set to 10."
   ]
  },
  {
   "cell_type": "code",
   "execution_count": null,
   "metadata": {},
   "outputs": [],
   "source": [
    "criterion=torch.nn.BCEWithLogitsLoss()\n",
    "optimizer=torch.optim.SGD(lr_model.parameters(),lr=0.01)\n",
    "\n",
    "number_of_epochs=1000\n",
    "for epoch in range(number_of_epochs):\n",
    " optimizer.zero_grad()\n",
    " y_prediction=lr_model(x_train)\n",
    " loss=criterion(y_prediction,y_train)\n",
    " loss.backward()\n",
    " optimizer.step()\n",
    " if (epoch+1)%50 == 0 or epoch==0:\n",
    "    # Calculate Accuracy         \n",
    "    correct = 0\n",
    "    total = 0\n",
    "    # Iterate through train dataset\n",
    "    for label in y_train:\n",
    "        # Get predictions and compare with the churn label\n",
    "        predicted = y_prediction[total]\n",
    "        #print(label, predicted, (predicted >=0.5) and (label == 1))\n",
    "        total += 1\n",
    "        if (predicted >=0.5) and (label == 1) or (predicted <0.5) and (label == 0) :\n",
    "            correct += 1\n",
    "        \n",
    "        \n",
    "    accuracy = 100 * correct / total\n",
    "    print('epoch:', epoch+1,',loss=',loss.item(),',accuracy=',accuracy)\n"
   ]
  },
  {
   "cell_type": "markdown",
   "metadata": {},
   "source": [
    "Now, we plot the S-curve for cutomer activity level vs. churn. Matplotlib and Seaborn are two common plotting libraries used in Python. These plotting libraries are useful in creating custom visualizations to help gain insights from our data."
   ]
  },
  {
   "cell_type": "code",
   "execution_count": null,
   "metadata": {
    "collapsed": false,
    "jupyter": {
     "outputs_hidden": false
    }
   },
   "outputs": [],
   "source": [
    "%matplotlib inline\n",
    "\n",
    "y_prediction = lr_model(x_test)\n",
    "\n",
    "import matplotlib.pyplot as plt\n",
    "import seaborn as sns\n",
    "import numpy as np\n",
    "sns.set(style=\"whitegrid\")\n",
    "\n",
    "X = test_df['ACTIVITY_LEVEL']\n",
    "Y = y_prediction.detach().numpy() #test_df['CHURN']\n",
    "\n",
    "\n",
    "plt.figure()\n",
    "plt.xlabel(\"Activity Level\", fontsize=16)\n",
    "plt.ylabel(\"Probability of Churn\", fontsize=16)\n",
    "sns.regplot(x=np.array(X),y=np.array(Y), order=2)\n",
    "plt.show()"
   ]
  }
 ],
 "metadata": {
  "kernelspec": {
   "display_name": "Python 3 (ipykernel)",
   "language": "python",
   "name": "python3"
  },
  "language_info": {
   "codemirror_mode": {
    "name": "ipython",
    "version": 3
   },
   "file_extension": ".py",
   "mimetype": "text/x-python",
   "name": "python",
   "nbconvert_exporter": "python",
   "pygments_lexer": "ipython3",
   "version": "3.9.7"
  }
 },
 "nbformat": 4,
 "nbformat_minor": 4
}
