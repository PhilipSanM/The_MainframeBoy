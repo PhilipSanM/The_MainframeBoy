{
 "cells": [
  {
   "cell_type": "markdown",
   "metadata": {},
   "source": [
    "# MNIST Handwritten Digits Recogniton\n",
    "In this demo, we will perform a single digit recognition using MNIST dataset and neural network model in Tensorflow.  \n",
    "# Loading MNIST training data"
   ]
  },
  {
   "cell_type": "code",
   "execution_count": 1,
   "metadata": {
    "collapsed": false,
    "jupyter": {
     "outputs_hidden": false
    }
   },
   "outputs": [
    {
     "ename": "ModuleNotFoundError",
     "evalue": "No module named 'tensorflow'",
     "output_type": "error",
     "traceback": [
      "\u001b[0;31m---------------------------------------------------------------------------\u001b[0m",
      "\u001b[0;31mModuleNotFoundError\u001b[0m                       Traceback (most recent call last)",
      "\u001b[0;32m/tmp/ipykernel_176/2144249425.py\u001b[0m in \u001b[0;36m<module>\u001b[0;34m\u001b[0m\n\u001b[1;32m      4\u001b[0m \u001b[0;34m\u001b[0m\u001b[0m\n\u001b[1;32m      5\u001b[0m \u001b[0;31m# import MNIST data and load it into train and test tensors\u001b[0m\u001b[0;34m\u001b[0m\u001b[0;34m\u001b[0m\u001b[0m\n\u001b[0;32m----> 6\u001b[0;31m \u001b[0;32mimport\u001b[0m \u001b[0mtensorflow\u001b[0m \u001b[0;32mas\u001b[0m \u001b[0mtf\u001b[0m\u001b[0;34m\u001b[0m\u001b[0;34m\u001b[0m\u001b[0m\n\u001b[0m\u001b[1;32m      7\u001b[0m \u001b[0mmnist\u001b[0m \u001b[0;34m=\u001b[0m \u001b[0mtf\u001b[0m\u001b[0;34m.\u001b[0m\u001b[0mkeras\u001b[0m\u001b[0;34m.\u001b[0m\u001b[0mdatasets\u001b[0m\u001b[0;34m.\u001b[0m\u001b[0mmnist\u001b[0m\u001b[0;34m\u001b[0m\u001b[0;34m\u001b[0m\u001b[0m\n\u001b[1;32m      8\u001b[0m \u001b[0;34m(\u001b[0m\u001b[0mx_train\u001b[0m\u001b[0;34m,\u001b[0m \u001b[0my_train\u001b[0m\u001b[0;34m)\u001b[0m\u001b[0;34m,\u001b[0m \u001b[0;34m(\u001b[0m\u001b[0mx_test\u001b[0m\u001b[0;34m,\u001b[0m \u001b[0my_test\u001b[0m\u001b[0;34m)\u001b[0m \u001b[0;34m=\u001b[0m \u001b[0mmnist\u001b[0m\u001b[0;34m.\u001b[0m\u001b[0mload_data\u001b[0m\u001b[0;34m(\u001b[0m\u001b[0;34m)\u001b[0m\u001b[0;34m\u001b[0m\u001b[0;34m\u001b[0m\u001b[0m\n",
      "\u001b[0;31mModuleNotFoundError\u001b[0m: No module named 'tensorflow'"
     ]
    }
   ],
   "source": [
    "# import matplotlib\n",
    "import matplotlib.pyplot as plt\n",
    "%matplotlib inline\n",
    "\n",
    "# import MNIST data and load it into train and test tensors\n",
    "import tensorflow as tf\n",
    "mnist = tf.keras.datasets.mnist\n",
    "(x_train, y_train), (x_test, y_test) = mnist.load_data()\n",
    "x_train, x_test = x_train / 255.0, x_test / 255.0"
   ]
  },
  {
   "cell_type": "markdown",
   "metadata": {},
   "source": [
    "## Training Images\n",
    "![mnist.train.xs](data:image/png;base64,iVBORw0KGgoAAAANSUhEUgAAAaQAAAGyCAYAAACrw7CzAAAABHNCSVQICAgIfAhkiAAAAAlwSFlz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%0Agg==)"
   ]
  },
  {
   "cell_type": "code",
   "execution_count": null,
   "metadata": {
    "collapsed": false,
    "jupyter": {
     "outputs_hidden": false
    }
   },
   "outputs": [],
   "source": [
    "# check MNIST training images matrix shape\n",
    "x_train.shape, y_train.shape, x_test.shape, y_test.shape"
   ]
  },
  {
   "cell_type": "code",
   "execution_count": null,
   "metadata": {
    "collapsed": false,
    "jupyter": {
     "outputs_hidden": false
    }
   },
   "outputs": [],
   "source": [
    "# plot a sample image from the x_train dataset\n",
    "plt.imshow(x_train[5]).set_cmap('Greys')"
   ]
  },
  {
   "cell_type": "markdown",
   "metadata": {},
   "source": [
    "# Initializing a Neural Network Model\n",
    "We will use a Sequential DNN model which is appropriate for a plain stack of layers where each layer has exactly one input tensor and one output tensor.\n",
    "\n",
    "![](https://miro.medium.com/max/1400/1*eJ36Jpf-DE9q5nKk67xT0Q.jpeg)\n",
    "\n",
    "From: (https://towardsdatascience.com/building-a-deep-learning-model-using-keras-1548ca149d37)"
   ]
  },
  {
   "cell_type": "code",
   "execution_count": null,
   "metadata": {
    "collapsed": false,
    "jupyter": {
     "outputs_hidden": false
    }
   },
   "outputs": [],
   "source": [
    "# define a neural network \n",
    "model = tf.keras.models.Sequential([\n",
    "  tf.keras.layers.Flatten(input_shape=(28, 28)),\n",
    "  tf.keras.layers.Dense(128, activation='relu'),\n",
    "  tf.keras.layers.Dropout(0.2),\n",
    "  tf.keras.layers.Dense(10)\n",
    "])"
   ]
  },
  {
   "cell_type": "markdown",
   "metadata": {},
   "source": [
    "# Defining the Train Step"
   ]
  },
  {
   "cell_type": "code",
   "execution_count": null,
   "metadata": {
    "collapsed": false,
    "jupyter": {
     "outputs_hidden": false
    }
   },
   "outputs": [],
   "source": [
    "# For each example, the model returns a vector of logits or log-odds scores, one for each class.\n",
    "predictions = model(x_train[:1]).numpy()\n",
    "\n",
    "# The tf.nn.softmax function converts these logits to probabilities for each class:\n",
    "tf.nn.softmax(predictions).numpy()\n",
    "\n",
    "# Define a loss function for training using losses.SparseCategoricalCrossentropy, which takes a vector of logits and a True index and returns a scalar loss for each example.\n",
    "loss_fn = tf.keras.losses.SparseCategoricalCrossentropy(from_logits=True)\n",
    "\n",
    "# Configure and compile the model using Keras Model.compile\n",
    "model.compile(optimizer='adam',\n",
    "              loss=loss_fn,\n",
    "              metrics=['accuracy'])\n",
    "model"
   ]
  },
  {
   "cell_type": "markdown",
   "metadata": {},
   "source": [
    "# Train and evaluate the model"
   ]
  },
  {
   "cell_type": "code",
   "execution_count": null,
   "metadata": {
    "collapsed": false,
    "jupyter": {
     "outputs_hidden": false
    }
   },
   "outputs": [],
   "source": [
    "# Use the Model.fit method to adjust your model parameters and minimize the loss:\n",
    "model.fit(x_train, y_train, epochs=5)"
   ]
  },
  {
   "cell_type": "markdown",
   "metadata": {},
   "source": [
    "# Test"
   ]
  },
  {
   "cell_type": "code",
   "execution_count": null,
   "metadata": {
    "collapsed": false,
    "jupyter": {
     "outputs_hidden": false
    }
   },
   "outputs": [],
   "source": [
    "# evaluate the accuracy of the model\n",
    "# The Model.evaluate method checks the models performance, usually on a \"Validation-set\" or \"Test-set\".\n",
    "\n",
    "\n",
    "#model.evaluate(x_test,  y_test, verbose=2)"
   ]
  },
  {
   "cell_type": "markdown",
   "metadata": {},
   "source": [
    "## Export trained model into ONNX format \n",
    "tf2onnx converts models to ONNX format which can be then used to compute predictions with another backend on a different platform. tensorflow is supported on most of the platforms including IBM LinuxONE. So there is no need to do it. However for any platform specific models it's the way to expand the range of supported platforms.  A non-IBM LinuxONE can be exported to ONNX and then executed on IBM LinuxONE."
   ]
  },
  {
   "cell_type": "code",
   "execution_count": null,
   "metadata": {},
   "outputs": [],
   "source": [
    "# Convert into ONNX format\n",
    "# from tf2onnx import convert\n",
    "\n",
    "model.save(\"mnist_seqdnn\", overwrite=True, include_optimizer=False, save_format='tf')\n",
    "\n",
    "# python -m tf2onnx.convert --opset 13 --saved-model mnist_seqdnn --output mnist_seqdnn.onnx \n",
    "\n",
    "# model_proto, external_tensor_storage = convert.from_keras(model,\n",
    "#                input_signature=None, opset=13, custom_ops=None,\n",
    "#                custom_op_handlers=None, custom_rewriter=None,\n",
    "#                inputs_as_nchw=None, extra_opset=None, shape_override=None,\n",
    "#                target=None, large_model=True, output_path='mnist_seqdnn.onnx')"
   ]
  },
  {
   "cell_type": "code",
   "execution_count": null,
   "metadata": {},
   "outputs": [],
   "source": []
  },
  {
   "cell_type": "code",
   "execution_count": null,
   "metadata": {},
   "outputs": [],
   "source": []
  }
 ],
 "metadata": {
  "kernelspec": {
   "display_name": "Python 3 (ipykernel)",
   "language": "python",
   "name": "python3"
  },
  "language_info": {
   "codemirror_mode": {
    "name": "ipython",
    "version": 3
   },
   "file_extension": ".py",
   "mimetype": "text/x-python",
   "name": "python",
   "nbconvert_exporter": "python",
   "pygments_lexer": "ipython3",
   "version": "3.9.7"
  }
 },
 "nbformat": 4,
 "nbformat_minor": 4
}
